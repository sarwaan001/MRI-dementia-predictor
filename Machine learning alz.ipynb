{
 "cells": [
  {
   "cell_type": "code",
   "execution_count": 1,
   "metadata": {},
   "outputs": [],
   "source": [
    "import numpy as np\n",
    "import pandas as pd\n",
    "import seaborn as sns\n",
    "from sklearn.linear_model import SGDClassifier\n",
    "from matplotlib import pyplot as plt\n",
    "from sklearn.model_selection import train_test_split"
   ]
  },
  {
   "cell_type": "code",
   "execution_count": 2,
   "metadata": {},
   "outputs": [],
   "source": [
    "df = pd.read_csv('oasis_cross-sectional.csv')\n",
    "df2 = pd.read_csv('oasis_longitudinal.csv')"
   ]
  },
  {
   "cell_type": "code",
   "execution_count": 3,
   "metadata": {},
   "outputs": [
    {
     "name": "stdout",
     "output_type": "stream",
     "text": [
      "                ID M/F Hand  Age  Educ  SES  MMSE  CDR  eTIV   nWBV    ASF  \\\n",
      "0    OAS1_0001_MR1   F    R   74   2.0  3.0  29.0  0.0  1344  0.743  1.306   \n",
      "1    OAS1_0002_MR1   F    R   55   4.0  1.0  29.0  0.0  1147  0.810  1.531   \n",
      "2    OAS1_0003_MR1   F    R   73   4.0  3.0  27.0  0.5  1454  0.708  1.207   \n",
      "3    OAS1_0004_MR1   M    R   28   NaN  NaN   NaN  NaN  1588  0.803  1.105   \n",
      "4    OAS1_0005_MR1   M    R   18   NaN  NaN   NaN  NaN  1737  0.848  1.010   \n",
      "5    OAS1_0006_MR1   F    R   24   NaN  NaN   NaN  NaN  1131  0.862  1.551   \n",
      "6    OAS1_0007_MR1   M    R   21   NaN  NaN   NaN  NaN  1516  0.830  1.157   \n",
      "7    OAS1_0009_MR1   F    R   20   NaN  NaN   NaN  NaN  1505  0.843  1.166   \n",
      "8    OAS1_0010_MR1   M    R   74   5.0  2.0  30.0  0.0  1636  0.689  1.073   \n",
      "9    OAS1_0011_MR1   F    R   52   3.0  2.0  30.0  0.0  1321  0.827  1.329   \n",
      "10   OAS1_0012_MR1   M    R   30   NaN  NaN   NaN  NaN  1574  0.842  1.115   \n",
      "11   OAS1_0013_MR1   F    R   81   5.0  2.0  30.0  0.0  1664  0.679  1.055   \n",
      "12   OAS1_0014_MR1   F    R   19   NaN  NaN   NaN  NaN  1525  0.856  1.151   \n",
      "13   OAS1_0015_MR1   M    R   76   2.0  NaN  28.0  0.5  1738  0.719  1.010   \n",
      "14   OAS1_0016_MR1   M    R   82   2.0  4.0  27.0  0.5  1477  0.739  1.188   \n",
      "15   OAS1_0017_MR1   M    R   21   NaN  NaN   NaN  NaN  1689  0.845  1.039   \n",
      "16   OAS1_0018_MR1   M    R   39   3.0  4.0  28.0  0.0  1636  0.813  1.073   \n",
      "17   OAS1_0019_MR1   F    R   89   5.0  1.0  30.0  0.0  1536  0.715  1.142   \n",
      "18   OAS1_0020_MR1   F    R   48   5.0  2.0  29.0  0.0  1326  0.785  1.323   \n",
      "19   OAS1_0021_MR1   F    R   80   3.0  3.0  23.0  0.5  1794  0.765  0.978   \n",
      "20   OAS1_0022_MR1   F    R   69   2.0  4.0  23.0  0.5  1447  0.757  1.213   \n",
      "21   OAS1_0023_MR1   M    R   82   2.0  3.0  27.0  0.5  1420  0.710  1.236   \n",
      "22   OAS1_0025_MR1   F    R   24   NaN  NaN   NaN  NaN  1240  0.893  1.415   \n",
      "23   OAS1_0026_MR1   F    R   58   5.0  1.0  30.0  0.0  1235  0.820  1.421   \n",
      "24   OAS1_0027_MR1   F    R   43   NaN  NaN   NaN  NaN  1194  0.834  1.470   \n",
      "25   OAS1_0028_MR1   F    R   86   2.0  4.0  27.0  1.0  1449  0.738  1.211   \n",
      "26   OAS1_0029_MR1   M    R   21   NaN  NaN   NaN  NaN  1653  0.858  1.062   \n",
      "27   OAS1_0030_MR1   F    R   65   2.0  3.0  29.0  0.0  1392  0.764  1.261   \n",
      "28   OAS1_0031_MR1   M    R   88   1.0  4.0  26.0  1.0  1419  0.674  1.236   \n",
      "29   OAS1_0032_MR1   M    R   89   4.0  1.0  28.0  0.0  1631  0.682  1.076   \n",
      "..             ...  ..  ...  ...   ...  ...   ...  ...   ...    ...    ...   \n",
      "406  OAS1_0448_MR1   F    R   22   NaN  NaN   NaN  NaN  1524  0.858  1.152   \n",
      "407  OAS1_0449_MR1   F    R   71   3.0  4.0  29.0  0.0  1264  0.818  1.388   \n",
      "408  OAS1_0450_MR1   M    R   19   NaN  NaN   NaN  NaN  1478  0.880  1.188   \n",
      "409  OAS1_0451_MR1   M    R   73   5.0  3.0  27.0  0.5  1687  0.728  1.040   \n",
      "410  OAS1_0452_MR1   M    R   75   1.0  4.0  22.0  1.0  1656  0.762  1.060   \n",
      "411  OAS1_0453_MR1   F    R   70   1.0  4.0  29.0  0.5  1295  0.748  1.355   \n",
      "412  OAS1_0454_MR1   F    R   73   3.0  2.0  23.0  0.5  1536  0.730  1.142   \n",
      "413  OAS1_0455_MR1   F    R   61   2.0  4.0  28.0  0.0  1354  0.825  1.297   \n",
      "414  OAS1_0456_MR1   M    R   61   5.0  2.0  30.0  0.0  1637  0.780  1.072   \n",
      "415  OAS1_0457_MR1   F    R   62   3.0  3.0  26.0  0.0  1372  0.766  1.279   \n",
      "416  OAS1_0061_MR2   F    R   20   NaN  NaN   NaN  NaN  1757  0.845  0.999   \n",
      "417  OAS1_0080_MR2   F    R   25   NaN  NaN   NaN  NaN  1605  0.841  1.093   \n",
      "418  OAS1_0092_MR2   M    R   22   NaN  NaN   NaN  NaN  1457  0.835  1.205   \n",
      "419  OAS1_0101_MR2   M    R   29   NaN  NaN   NaN  NaN  1501  0.835  1.169   \n",
      "420  OAS1_0111_MR2   M    R   23   NaN  NaN   NaN  NaN  1714  0.861  1.024   \n",
      "421  OAS1_0117_MR2   M    R   25   NaN  NaN   NaN  NaN  1753  0.782  1.001   \n",
      "422  OAS1_0145_MR2   M    R   34   NaN  NaN   NaN  NaN  1654  0.832  1.061   \n",
      "423  OAS1_0150_MR2   F    R   20   NaN  NaN   NaN  NaN  1506  0.876  1.165   \n",
      "424  OAS1_0156_MR2   F    R   20   NaN  NaN   NaN  NaN  1577  0.832  1.113   \n",
      "425  OAS1_0191_MR2   F    R   21   NaN  NaN   NaN  NaN  1416  0.837  1.239   \n",
      "426  OAS1_0202_MR2   F    R   23   NaN  NaN   NaN  NaN  1548  0.861  1.134   \n",
      "427  OAS1_0230_MR2   F    R   19   NaN  NaN   NaN  NaN  1577  0.849  1.113   \n",
      "428  OAS1_0236_MR2   F    R   20   NaN  NaN   NaN  NaN  1222  0.872  1.436   \n",
      "429  OAS1_0239_MR2   F    R   29   NaN  NaN   NaN  NaN  1438  0.822  1.221   \n",
      "430  OAS1_0249_MR2   F    R   28   NaN  NaN   NaN  NaN  1215  0.865  1.444   \n",
      "431  OAS1_0285_MR2   M    R   20   NaN  NaN   NaN  NaN  1469  0.847  1.195   \n",
      "432  OAS1_0353_MR2   M    R   22   NaN  NaN   NaN  NaN  1684  0.790  1.042   \n",
      "433  OAS1_0368_MR2   M    R   22   NaN  NaN   NaN  NaN  1580  0.856  1.111   \n",
      "434  OAS1_0379_MR2   F    R   20   NaN  NaN   NaN  NaN  1262  0.861  1.390   \n",
      "435  OAS1_0395_MR2   F    R   26   NaN  NaN   NaN  NaN  1283  0.834  1.368   \n",
      "\n",
      "     Delay  \n",
      "0      NaN  \n",
      "1      NaN  \n",
      "2      NaN  \n",
      "3      NaN  \n",
      "4      NaN  \n",
      "5      NaN  \n",
      "6      NaN  \n",
      "7      NaN  \n",
      "8      NaN  \n",
      "9      NaN  \n",
      "10     NaN  \n",
      "11     NaN  \n",
      "12     NaN  \n",
      "13     NaN  \n",
      "14     NaN  \n",
      "15     NaN  \n",
      "16     NaN  \n",
      "17     NaN  \n",
      "18     NaN  \n",
      "19     NaN  \n",
      "20     NaN  \n",
      "21     NaN  \n",
      "22     NaN  \n",
      "23     NaN  \n",
      "24     NaN  \n",
      "25     NaN  \n",
      "26     NaN  \n",
      "27     NaN  \n",
      "28     NaN  \n",
      "29     NaN  \n",
      "..     ...  \n",
      "406    NaN  \n",
      "407    NaN  \n",
      "408    NaN  \n",
      "409    NaN  \n",
      "410    NaN  \n",
      "411    NaN  \n",
      "412    NaN  \n",
      "413    NaN  \n",
      "414    NaN  \n",
      "415    NaN  \n",
      "416    1.0  \n",
      "417   20.0  \n",
      "418    5.0  \n",
      "419   64.0  \n",
      "420    2.0  \n",
      "421    5.0  \n",
      "422   10.0  \n",
      "423    1.0  \n",
      "424   12.0  \n",
      "425   28.0  \n",
      "426   21.0  \n",
      "427   24.0  \n",
      "428    3.0  \n",
      "429   40.0  \n",
      "430    3.0  \n",
      "431    2.0  \n",
      "432   40.0  \n",
      "433   89.0  \n",
      "434    2.0  \n",
      "435   39.0  \n",
      "\n",
      "[436 rows x 12 columns]\n",
      "    Subject ID         MRI ID        Group  Visit  MR Delay M/F Hand  Age  \\\n",
      "0    OAS2_0001  OAS2_0001_MR1  Nondemented      1         0   M    R   87   \n",
      "1    OAS2_0001  OAS2_0001_MR2  Nondemented      2       457   M    R   88   \n",
      "2    OAS2_0002  OAS2_0002_MR1     Demented      1         0   M    R   75   \n",
      "3    OAS2_0002  OAS2_0002_MR2     Demented      2       560   M    R   76   \n",
      "4    OAS2_0002  OAS2_0002_MR3     Demented      3      1895   M    R   80   \n",
      "5    OAS2_0004  OAS2_0004_MR1  Nondemented      1         0   F    R   88   \n",
      "6    OAS2_0004  OAS2_0004_MR2  Nondemented      2       538   F    R   90   \n",
      "7    OAS2_0005  OAS2_0005_MR1  Nondemented      1         0   M    R   80   \n",
      "8    OAS2_0005  OAS2_0005_MR2  Nondemented      2      1010   M    R   83   \n",
      "9    OAS2_0005  OAS2_0005_MR3  Nondemented      3      1603   M    R   85   \n",
      "10   OAS2_0007  OAS2_0007_MR1     Demented      1         0   M    R   71   \n",
      "11   OAS2_0007  OAS2_0007_MR3     Demented      3       518   M    R   73   \n",
      "12   OAS2_0007  OAS2_0007_MR4     Demented      4      1281   M    R   75   \n",
      "13   OAS2_0008  OAS2_0008_MR1  Nondemented      1         0   F    R   93   \n",
      "14   OAS2_0008  OAS2_0008_MR2  Nondemented      2       742   F    R   95   \n",
      "15   OAS2_0009  OAS2_0009_MR1     Demented      1         0   M    R   68   \n",
      "16   OAS2_0009  OAS2_0009_MR2     Demented      2       576   M    R   69   \n",
      "17   OAS2_0010  OAS2_0010_MR1     Demented      1         0   F    R   66   \n",
      "18   OAS2_0010  OAS2_0010_MR2     Demented      2       854   F    R   68   \n",
      "19   OAS2_0012  OAS2_0012_MR1  Nondemented      1         0   F    R   78   \n",
      "20   OAS2_0012  OAS2_0012_MR2  Nondemented      2       730   F    R   80   \n",
      "21   OAS2_0012  OAS2_0012_MR3  Nondemented      3      1598   F    R   83   \n",
      "22   OAS2_0013  OAS2_0013_MR1  Nondemented      1         0   F    R   81   \n",
      "23   OAS2_0013  OAS2_0013_MR2  Nondemented      2       643   F    R   82   \n",
      "24   OAS2_0013  OAS2_0013_MR3  Nondemented      3      1456   F    R   85   \n",
      "25   OAS2_0014  OAS2_0014_MR1     Demented      1         0   M    R   76   \n",
      "26   OAS2_0014  OAS2_0014_MR2     Demented      2       504   M    R   77   \n",
      "27   OAS2_0016  OAS2_0016_MR1     Demented      1         0   M    R   88   \n",
      "28   OAS2_0016  OAS2_0016_MR2     Demented      2       707   M    R   90   \n",
      "29   OAS2_0017  OAS2_0017_MR1  Nondemented      1         0   M    R   80   \n",
      "..         ...            ...          ...    ...       ...  ..  ...  ...   \n",
      "343  OAS2_0175  OAS2_0175_MR1     Demented      1         0   M    R   70   \n",
      "344  OAS2_0175  OAS2_0175_MR2     Demented      2       700   M    R   72   \n",
      "345  OAS2_0175  OAS2_0175_MR3     Demented      3      1343   M    R   73   \n",
      "346  OAS2_0176  OAS2_0176_MR1    Converted      1         0   M    R   84   \n",
      "347  OAS2_0176  OAS2_0176_MR2    Converted      2       774   M    R   87   \n",
      "348  OAS2_0176  OAS2_0176_MR3    Converted      3      1631   M    R   89   \n",
      "349  OAS2_0177  OAS2_0177_MR1  Nondemented      1         0   M    R   68   \n",
      "350  OAS2_0177  OAS2_0177_MR2  Nondemented      2       665   M    R   70   \n",
      "351  OAS2_0178  OAS2_0178_MR1  Nondemented      1         0   F    R   89   \n",
      "352  OAS2_0178  OAS2_0178_MR2  Nondemented      2       600   F    R   90   \n",
      "353  OAS2_0178  OAS2_0178_MR3  Nondemented      3      1447   F    R   93   \n",
      "354  OAS2_0179  OAS2_0179_MR1     Demented      1         0   M    R   79   \n",
      "355  OAS2_0179  OAS2_0179_MR2     Demented      2       652   M    R   81   \n",
      "356  OAS2_0181  OAS2_0181_MR1     Demented      1         0   F    R   74   \n",
      "357  OAS2_0181  OAS2_0181_MR2     Demented      2       539   F    R   75   \n",
      "358  OAS2_0181  OAS2_0181_MR3     Demented      3      1107   F    R   77   \n",
      "359  OAS2_0182  OAS2_0182_MR1     Demented      1         0   M    R   73   \n",
      "360  OAS2_0182  OAS2_0182_MR2     Demented      2       776   M    R   75   \n",
      "361  OAS2_0183  OAS2_0183_MR1  Nondemented      1         0   F    R   66   \n",
      "362  OAS2_0183  OAS2_0183_MR2  Nondemented      2       182   F    R   66   \n",
      "363  OAS2_0183  OAS2_0183_MR3  Nondemented      3       732   F    R   68   \n",
      "364  OAS2_0183  OAS2_0183_MR4  Nondemented      4      2107   F    R   72   \n",
      "365  OAS2_0184  OAS2_0184_MR1     Demented      1         0   F    R   72   \n",
      "366  OAS2_0184  OAS2_0184_MR2     Demented      2       553   F    R   73   \n",
      "367  OAS2_0185  OAS2_0185_MR1     Demented      1         0   M    R   80   \n",
      "368  OAS2_0185  OAS2_0185_MR2     Demented      2       842   M    R   82   \n",
      "369  OAS2_0185  OAS2_0185_MR3     Demented      3      2297   M    R   86   \n",
      "370  OAS2_0186  OAS2_0186_MR1  Nondemented      1         0   F    R   61   \n",
      "371  OAS2_0186  OAS2_0186_MR2  Nondemented      2       763   F    R   63   \n",
      "372  OAS2_0186  OAS2_0186_MR3  Nondemented      3      1608   F    R   65   \n",
      "\n",
      "     EDUC  SES  MMSE  CDR  eTIV   nWBV    ASF  \n",
      "0      14  2.0  27.0  0.0  1987  0.696  0.883  \n",
      "1      14  2.0  30.0  0.0  2004  0.681  0.876  \n",
      "2      12  NaN  23.0  0.5  1678  0.736  1.046  \n",
      "3      12  NaN  28.0  0.5  1738  0.713  1.010  \n",
      "4      12  NaN  22.0  0.5  1698  0.701  1.034  \n",
      "5      18  3.0  28.0  0.0  1215  0.710  1.444  \n",
      "6      18  3.0  27.0  0.0  1200  0.718  1.462  \n",
      "7      12  4.0  28.0  0.0  1689  0.712  1.039  \n",
      "8      12  4.0  29.0  0.5  1701  0.711  1.032  \n",
      "9      12  4.0  30.0  0.0  1699  0.705  1.033  \n",
      "10     16  NaN  28.0  0.5  1357  0.748  1.293  \n",
      "11     16  NaN  27.0  1.0  1365  0.727  1.286  \n",
      "12     16  NaN  27.0  1.0  1372  0.710  1.279  \n",
      "13     14  2.0  30.0  0.0  1272  0.698  1.380  \n",
      "14     14  2.0  29.0  0.0  1257  0.703  1.396  \n",
      "15     12  2.0  27.0  0.5  1457  0.806  1.205  \n",
      "16     12  2.0  24.0  0.5  1480  0.791  1.186  \n",
      "17     12  3.0  30.0  0.5  1447  0.769  1.213  \n",
      "18     12  3.0  29.0  0.5  1482  0.752  1.184  \n",
      "19     16  2.0  29.0  0.0  1333  0.748  1.316  \n",
      "20     16  2.0  29.0  0.0  1323  0.738  1.326  \n",
      "21     16  2.0  29.0  0.0  1323  0.718  1.327  \n",
      "22     12  4.0  30.0  0.0  1230  0.715  1.427  \n",
      "23     12  4.0  30.0  0.0  1212  0.720  1.448  \n",
      "24     12  4.0  29.0  0.0  1225  0.710  1.433  \n",
      "25     16  3.0  21.0  0.5  1602  0.697  1.096  \n",
      "26     16  3.0  16.0  1.0  1590  0.696  1.104  \n",
      "27      8  4.0  25.0  0.5  1651  0.660  1.063  \n",
      "28      8  4.0  23.0  0.5  1668  0.646  1.052  \n",
      "29     12  3.0  29.0  0.0  1783  0.752  0.985  \n",
      "..    ...  ...   ...  ...   ...    ...    ...  \n",
      "343    16  4.0  26.0  0.5  1796  0.742  0.977  \n",
      "344    16  4.0  28.0  0.5  1796  0.732  0.977  \n",
      "345    16  4.0  28.0  0.5  1803  0.731  0.973  \n",
      "346    16  2.0  30.0  0.0  1404  0.710  1.250  \n",
      "347    16  2.0  30.0  0.0  1398  0.696  1.255  \n",
      "348    16  2.0  30.0  0.5  1408  0.679  1.246  \n",
      "349    14  3.0  26.0  0.0  1444  0.778  1.216  \n",
      "350    14  3.0  28.0  0.0  1510  0.770  1.162  \n",
      "351    14  2.0  29.0  0.0  1509  0.756  1.163  \n",
      "352    14  2.0  28.0  0.0  1495  0.746  1.174  \n",
      "353    14  2.0  30.0  0.0  1488  0.735  1.179  \n",
      "354    20  1.0  26.0  0.5  1548  0.711  1.134  \n",
      "355    20  1.0  26.0  0.5  1556  0.691  1.128  \n",
      "356    12  NaN  26.0  0.5  1171  0.733  1.499  \n",
      "357    12  NaN   NaN  1.0  1169  0.742  1.501  \n",
      "358    12  NaN   NaN  1.0  1159  0.733  1.515  \n",
      "359    12  NaN  23.0  0.5  1661  0.698  1.056  \n",
      "360    12  NaN  20.0  0.5  1654  0.696  1.061  \n",
      "361    13  2.0  30.0  0.0  1495  0.746  1.174  \n",
      "362    13  2.0  30.0  0.0  1506  0.740  1.165  \n",
      "363    13  2.0  30.0  0.0  1506  0.740  1.165  \n",
      "364    13  2.0  30.0  0.0  1510  0.723  1.162  \n",
      "365    16  3.0  24.0  0.5  1354  0.733  1.296  \n",
      "366    16  3.0  21.0  1.0  1351  0.708  1.299  \n",
      "367    16  1.0  28.0  0.5  1704  0.711  1.030  \n",
      "368    16  1.0  28.0  0.5  1693  0.694  1.037  \n",
      "369    16  1.0  26.0  0.5  1688  0.675  1.040  \n",
      "370    13  2.0  30.0  0.0  1319  0.801  1.331  \n",
      "371    13  2.0  30.0  0.0  1327  0.796  1.323  \n",
      "372    13  2.0  30.0  0.0  1333  0.801  1.317  \n",
      "\n",
      "[373 rows x 15 columns]\n"
     ]
    }
   ],
   "source": [
    "print(df)\n",
    "print(df2)"
   ]
  },
  {
   "cell_type": "code",
   "execution_count": 4,
   "metadata": {},
   "outputs": [
    {
     "name": "stdout",
     "output_type": "stream",
     "text": [
      "    Subject ID         MRI ID        Group  Visit  MR Delay M/F Hand  Age  \\\n",
      "0         0001  OAS2_0001_MR1  Nondemented      1         0   M    R   87   \n",
      "1         0001  OAS2_0001_MR2  Nondemented      2       457   M    R   88   \n",
      "2         0002  OAS2_0002_MR1     Demented      1         0   M    R   75   \n",
      "3         0002  OAS2_0002_MR2     Demented      2       560   M    R   76   \n",
      "4         0002  OAS2_0002_MR3     Demented      3      1895   M    R   80   \n",
      "5         0004  OAS2_0004_MR1  Nondemented      1         0   F    R   88   \n",
      "6         0004  OAS2_0004_MR2  Nondemented      2       538   F    R   90   \n",
      "7         0005  OAS2_0005_MR1  Nondemented      1         0   M    R   80   \n",
      "8         0005  OAS2_0005_MR2  Nondemented      2      1010   M    R   83   \n",
      "9         0005  OAS2_0005_MR3  Nondemented      3      1603   M    R   85   \n",
      "10        0007  OAS2_0007_MR1     Demented      1         0   M    R   71   \n",
      "11        0007  OAS2_0007_MR3     Demented      3       518   M    R   73   \n",
      "12        0007  OAS2_0007_MR4     Demented      4      1281   M    R   75   \n",
      "13        0008  OAS2_0008_MR1  Nondemented      1         0   F    R   93   \n",
      "14        0008  OAS2_0008_MR2  Nondemented      2       742   F    R   95   \n",
      "15        0009  OAS2_0009_MR1     Demented      1         0   M    R   68   \n",
      "16        0009  OAS2_0009_MR2     Demented      2       576   M    R   69   \n",
      "17        0010  OAS2_0010_MR1     Demented      1         0   F    R   66   \n",
      "18        0010  OAS2_0010_MR2     Demented      2       854   F    R   68   \n",
      "19        0012  OAS2_0012_MR1  Nondemented      1         0   F    R   78   \n",
      "20        0012  OAS2_0012_MR2  Nondemented      2       730   F    R   80   \n",
      "21        0012  OAS2_0012_MR3  Nondemented      3      1598   F    R   83   \n",
      "22        0013  OAS2_0013_MR1  Nondemented      1         0   F    R   81   \n",
      "23        0013  OAS2_0013_MR2  Nondemented      2       643   F    R   82   \n",
      "24        0013  OAS2_0013_MR3  Nondemented      3      1456   F    R   85   \n",
      "25        0014  OAS2_0014_MR1     Demented      1         0   M    R   76   \n",
      "26        0014  OAS2_0014_MR2     Demented      2       504   M    R   77   \n",
      "27        0016  OAS2_0016_MR1     Demented      1         0   M    R   88   \n",
      "28        0016  OAS2_0016_MR2     Demented      2       707   M    R   90   \n",
      "29        0017  OAS2_0017_MR1  Nondemented      1         0   M    R   80   \n",
      "..         ...            ...          ...    ...       ...  ..  ...  ...   \n",
      "343       0175  OAS2_0175_MR1     Demented      1         0   M    R   70   \n",
      "344       0175  OAS2_0175_MR2     Demented      2       700   M    R   72   \n",
      "345       0175  OAS2_0175_MR3     Demented      3      1343   M    R   73   \n",
      "346       0176  OAS2_0176_MR1    Converted      1         0   M    R   84   \n",
      "347       0176  OAS2_0176_MR2    Converted      2       774   M    R   87   \n",
      "348       0176  OAS2_0176_MR3    Converted      3      1631   M    R   89   \n",
      "349       0177  OAS2_0177_MR1  Nondemented      1         0   M    R   68   \n",
      "350       0177  OAS2_0177_MR2  Nondemented      2       665   M    R   70   \n",
      "351       0178  OAS2_0178_MR1  Nondemented      1         0   F    R   89   \n",
      "352       0178  OAS2_0178_MR2  Nondemented      2       600   F    R   90   \n",
      "353       0178  OAS2_0178_MR3  Nondemented      3      1447   F    R   93   \n",
      "354       0179  OAS2_0179_MR1     Demented      1         0   M    R   79   \n",
      "355       0179  OAS2_0179_MR2     Demented      2       652   M    R   81   \n",
      "356       0181  OAS2_0181_MR1     Demented      1         0   F    R   74   \n",
      "357       0181  OAS2_0181_MR2     Demented      2       539   F    R   75   \n",
      "358       0181  OAS2_0181_MR3     Demented      3      1107   F    R   77   \n",
      "359       0182  OAS2_0182_MR1     Demented      1         0   M    R   73   \n",
      "360       0182  OAS2_0182_MR2     Demented      2       776   M    R   75   \n",
      "361       0183  OAS2_0183_MR1  Nondemented      1         0   F    R   66   \n",
      "362       0183  OAS2_0183_MR2  Nondemented      2       182   F    R   66   \n",
      "363       0183  OAS2_0183_MR3  Nondemented      3       732   F    R   68   \n",
      "364       0183  OAS2_0183_MR4  Nondemented      4      2107   F    R   72   \n",
      "365       0184  OAS2_0184_MR1     Demented      1         0   F    R   72   \n",
      "366       0184  OAS2_0184_MR2     Demented      2       553   F    R   73   \n",
      "367       0185  OAS2_0185_MR1     Demented      1         0   M    R   80   \n",
      "368       0185  OAS2_0185_MR2     Demented      2       842   M    R   82   \n",
      "369       0185  OAS2_0185_MR3     Demented      3      2297   M    R   86   \n",
      "370       0186  OAS2_0186_MR1  Nondemented      1         0   F    R   61   \n",
      "371       0186  OAS2_0186_MR2  Nondemented      2       763   F    R   63   \n",
      "372       0186  OAS2_0186_MR3  Nondemented      3      1608   F    R   65   \n",
      "\n",
      "     EDUC  SES  MMSE  CDR  eTIV   nWBV    ASF  \n",
      "0      14  2.0  27.0  0.0  1987  0.696  0.883  \n",
      "1      14  2.0  30.0  0.0  2004  0.681  0.876  \n",
      "2      12  NaN  23.0  0.5  1678  0.736  1.046  \n",
      "3      12  NaN  28.0  0.5  1738  0.713  1.010  \n",
      "4      12  NaN  22.0  0.5  1698  0.701  1.034  \n",
      "5      18  3.0  28.0  0.0  1215  0.710  1.444  \n",
      "6      18  3.0  27.0  0.0  1200  0.718  1.462  \n",
      "7      12  4.0  28.0  0.0  1689  0.712  1.039  \n",
      "8      12  4.0  29.0  0.5  1701  0.711  1.032  \n",
      "9      12  4.0  30.0  0.0  1699  0.705  1.033  \n",
      "10     16  NaN  28.0  0.5  1357  0.748  1.293  \n",
      "11     16  NaN  27.0  1.0  1365  0.727  1.286  \n",
      "12     16  NaN  27.0  1.0  1372  0.710  1.279  \n",
      "13     14  2.0  30.0  0.0  1272  0.698  1.380  \n",
      "14     14  2.0  29.0  0.0  1257  0.703  1.396  \n",
      "15     12  2.0  27.0  0.5  1457  0.806  1.205  \n",
      "16     12  2.0  24.0  0.5  1480  0.791  1.186  \n",
      "17     12  3.0  30.0  0.5  1447  0.769  1.213  \n",
      "18     12  3.0  29.0  0.5  1482  0.752  1.184  \n",
      "19     16  2.0  29.0  0.0  1333  0.748  1.316  \n",
      "20     16  2.0  29.0  0.0  1323  0.738  1.326  \n",
      "21     16  2.0  29.0  0.0  1323  0.718  1.327  \n",
      "22     12  4.0  30.0  0.0  1230  0.715  1.427  \n",
      "23     12  4.0  30.0  0.0  1212  0.720  1.448  \n",
      "24     12  4.0  29.0  0.0  1225  0.710  1.433  \n",
      "25     16  3.0  21.0  0.5  1602  0.697  1.096  \n",
      "26     16  3.0  16.0  1.0  1590  0.696  1.104  \n",
      "27      8  4.0  25.0  0.5  1651  0.660  1.063  \n",
      "28      8  4.0  23.0  0.5  1668  0.646  1.052  \n",
      "29     12  3.0  29.0  0.0  1783  0.752  0.985  \n",
      "..    ...  ...   ...  ...   ...    ...    ...  \n",
      "343    16  4.0  26.0  0.5  1796  0.742  0.977  \n",
      "344    16  4.0  28.0  0.5  1796  0.732  0.977  \n",
      "345    16  4.0  28.0  0.5  1803  0.731  0.973  \n",
      "346    16  2.0  30.0  0.0  1404  0.710  1.250  \n",
      "347    16  2.0  30.0  0.0  1398  0.696  1.255  \n",
      "348    16  2.0  30.0  0.5  1408  0.679  1.246  \n",
      "349    14  3.0  26.0  0.0  1444  0.778  1.216  \n",
      "350    14  3.0  28.0  0.0  1510  0.770  1.162  \n",
      "351    14  2.0  29.0  0.0  1509  0.756  1.163  \n",
      "352    14  2.0  28.0  0.0  1495  0.746  1.174  \n",
      "353    14  2.0  30.0  0.0  1488  0.735  1.179  \n",
      "354    20  1.0  26.0  0.5  1548  0.711  1.134  \n",
      "355    20  1.0  26.0  0.5  1556  0.691  1.128  \n",
      "356    12  NaN  26.0  0.5  1171  0.733  1.499  \n",
      "357    12  NaN   NaN  1.0  1169  0.742  1.501  \n",
      "358    12  NaN   NaN  1.0  1159  0.733  1.515  \n",
      "359    12  NaN  23.0  0.5  1661  0.698  1.056  \n",
      "360    12  NaN  20.0  0.5  1654  0.696  1.061  \n",
      "361    13  2.0  30.0  0.0  1495  0.746  1.174  \n",
      "362    13  2.0  30.0  0.0  1506  0.740  1.165  \n",
      "363    13  2.0  30.0  0.0  1506  0.740  1.165  \n",
      "364    13  2.0  30.0  0.0  1510  0.723  1.162  \n",
      "365    16  3.0  24.0  0.5  1354  0.733  1.296  \n",
      "366    16  3.0  21.0  1.0  1351  0.708  1.299  \n",
      "367    16  1.0  28.0  0.5  1704  0.711  1.030  \n",
      "368    16  1.0  28.0  0.5  1693  0.694  1.037  \n",
      "369    16  1.0  26.0  0.5  1688  0.675  1.040  \n",
      "370    13  2.0  30.0  0.0  1319  0.801  1.331  \n",
      "371    13  2.0  30.0  0.0  1327  0.796  1.323  \n",
      "372    13  2.0  30.0  0.0  1333  0.801  1.317  \n",
      "\n",
      "[373 rows x 15 columns]\n"
     ]
    }
   ],
   "source": [
    "Subjects = lambda string: string.split('_')[1]\n",
    "df2['Subject ID'] = df2['Subject ID'].apply(Subjects)\n",
    "print(df2)"
   ]
  },
  {
   "cell_type": "code",
   "execution_count": 5,
   "metadata": {},
   "outputs": [
    {
     "name": "stdout",
     "output_type": "stream",
     "text": [
      "         Group  Subject ID  MRI ID  Visit  MR Delay  M/F  Hand  Age  EDUC  \\\n",
      "0    Converted          14      14     14        14   14    14   14    14   \n",
      "1     Demented          64      64     64        64   64    64   64    64   \n",
      "2  Nondemented          72      72     72        72   72    72   72    72   \n",
      "\n",
      "   SES  MMSE  CDR  eTIV  nWBV  ASF  \n",
      "0   14    14   14    14    14   14  \n",
      "1   56    64   64    64    64   64  \n",
      "2   72    72   72    72    72   72  \n"
     ]
    }
   ],
   "source": [
    "bardata = df2.drop_duplicates('Subject ID').groupby('Group').count().reset_index()\n",
    "print(bardata)"
   ]
  },
  {
   "cell_type": "code",
   "execution_count": 6,
   "metadata": {},
   "outputs": [
    {
     "data": {
      "image/png": "[encoded data removed]",
      "text/plain": [
       "<Figure size 432x288 with 1 Axes>"
      ]
     },
     "metadata": {
      "needs_background": "light"
     },
     "output_type": "display_data"
    }
   ],
   "source": [
    "sns.barplot(data= bardata, x = 'Group', y = 'Subject ID')\n",
    "plt.show()"
   ]
  },
  {
   "cell_type": "code",
   "execution_count": 7,
   "metadata": {},
   "outputs": [],
   "source": [
    "#0: Converted, 1:Demented, 2.Nondemented\n",
    "numchange = lambda row: 0 if row == 'Converted' else (1 if row == 'Demented' else 2)\n",
    "df2['Group'] = df2.Group.apply(numchange)\n",
    "#0 Male 1 Female\n",
    "df2['M/F'] = df2['M/F'].apply(lambda gender: 0 if gender == 'M' else 1)\n",
    "df2['Hand'] = df2['Hand'].apply(lambda Hand: 0 if Hand == 'M' else 1)\n",
    "df2 = df2.dropna()"
   ]
  },
  {
   "cell_type": "code",
   "execution_count": 72,
   "metadata": {},
   "outputs": [
    {
     "name": "stderr",
     "output_type": "stream",
     "text": [
      "/Users/sarwaanansari/anaconda3/lib/python3.7/site-packages/sklearn/model_selection/_split.py:2179: FutureWarning: From version 0.21, test_size will always complement train_size unless both are specified.\n",
      "  FutureWarning)\n",
      "/Users/sarwaanansari/anaconda3/lib/python3.7/site-packages/sklearn/linear_model/stochastic_gradient.py:183: FutureWarning: max_iter and tol parameters have been added in SGDClassifier in 0.19. If max_iter is set but tol is left unset, the default value for tol in 0.19 and 0.20 will be None (which is equivalent to -infinity, so it has no effect) but will change in 0.21 to 1e-3. Specify tol to silence this warning.\n",
      "  FutureWarning)\n",
      "/Users/sarwaanansari/anaconda3/lib/python3.7/site-packages/sklearn/utils/validation.py:761: DataConversionWarning: A column-vector y was passed when a 1d array was expected. Please change the shape of y to (n_samples, ), for example using ravel().\n",
      "  y = column_or_1d(y, warn=True)\n"
     ]
    },
    {
     "data": {
      "text/plain": [
       "SGDClassifier(alpha=0.0001, average=False, class_weight=None,\n",
       "       early_stopping=False, epsilon=0.1, eta0=1e-05, fit_intercept=True,\n",
       "       l1_ratio=0.15, learning_rate='adaptive', loss='perceptron',\n",
       "       max_iter=500000, n_iter=None, n_iter_no_change=5, n_jobs=None,\n",
       "       penalty='l2', power_t=0.5, random_state=42, shuffle=True, tol=None,\n",
       "       validation_fraction=0.1, verbose=0, warm_start=False)"
      ]
     },
     "execution_count": 72,
     "metadata": {},
     "output_type": "execute_result"
    }
   ],
   "source": [
    "features = ['Visit','MR Delay',  'M/F',  'Hand',  'Age',  'EDUC', 'SES', 'MMSE', 'CDR', 'eTIV', 'nWBV', 'ASF']\n",
    "X_Train, X_Test, Y_Train, Y_Test = train_test_split(df2[features] , df2[['Group']], train_size = .8)\n",
    "clf = SGDClassifier(loss=\"perceptron\", penalty=\"l2\", max_iter=500000, random_state = 42, learning_rate='adaptive', eta0 = .00001)\n",
    "clf.fit(X_Train, Y_Train)"
   ]
  },
  {
   "cell_type": "code",
   "execution_count": 73,
   "metadata": {},
   "outputs": [
    {
     "data": {
      "text/plain": [
       "0.9014084507042254"
      ]
     },
     "execution_count": 73,
     "metadata": {},
     "output_type": "execute_result"
    }
   ],
   "source": [
    "clf.score(X_Test, Y_Test)"
   ]
  },
  {
   "cell_type": "code",
   "execution_count": 100,
   "metadata": {
    "scrolled": true
   },
   "outputs": [
    {
     "name": "stderr",
     "output_type": "stream",
     "text": [
      "/Users/sarwaanansari/anaconda3/lib/python3.7/site-packages/sklearn/ensemble/forest.py:246: FutureWarning: The default value of n_estimators will change from 10 in version 0.20 to 100 in 0.22.\n",
      "  \"10 in version 0.20 to 100 in 0.22.\", FutureWarning)\n",
      "/Users/sarwaanansari/anaconda3/lib/python3.7/site-packages/ipykernel_launcher.py:3: DataConversionWarning: A column-vector y was passed when a 1d array was expected. Please change the shape of y to (n_samples,), for example using ravel().\n",
      "  This is separate from the ipykernel package so we can avoid doing imports until\n"
     ]
    },
    {
     "data": {
      "text/plain": [
       "RandomForestClassifier(bootstrap=True, class_weight=None, criterion='gini',\n",
       "            max_depth=None, max_features='auto', max_leaf_nodes=None,\n",
       "            min_impurity_decrease=0.0, min_impurity_split=None,\n",
       "            min_samples_leaf=1, min_samples_split=2,\n",
       "            min_weight_fraction_leaf=0.0, n_estimators=10, n_jobs=None,\n",
       "            oob_score=False, random_state=0, verbose=0, warm_start=False)"
      ]
     },
     "execution_count": 100,
     "metadata": {},
     "output_type": "execute_result"
    }
   ],
   "source": [
    "from sklearn.ensemble import RandomForestClassifier\n",
    "clf2 = RandomForestClassifier(random_state=0)\n",
    "clf2.fit(X_Train, Y_Train)"
   ]
  },
  {
   "cell_type": "code",
   "execution_count": 101,
   "metadata": {},
   "outputs": [
    {
     "name": "stdout",
     "output_type": "stream",
     "text": [
      "0.9295774647887324\n"
     ]
    }
   ],
   "source": [
    "print(clf2.score(X_Test, Y_Test))"
   ]
  },
  {
   "cell_type": "code",
   "execution_count": 123,
   "metadata": {},
   "outputs": [
    {
     "name": "stdout",
     "output_type": "stream",
     "text": [
      "0.9577464788732394\n"
     ]
    },
    {
     "name": "stderr",
     "output_type": "stream",
     "text": [
      "/Users/sarwaanansari/anaconda3/lib/python3.7/site-packages/ipykernel_launcher.py:6: DataConversionWarning: A column-vector y was passed when a 1d array was expected. Please change the shape of y to (n_samples,), for example using ravel().\n",
      "  \n"
     ]
    }
   ],
   "source": [
    "from sklearn.ensemble import ExtraTreesClassifier\n",
    "from sklearn.tree import DecisionTreeClassifier\n",
    "from sklearn.model_selection import cross_val_score\n",
    "from sklearn.ensemble import BaggingClassifier\n",
    "clf3 = ExtraTreesClassifier(n_estimators=5, min_samples_split=2, random_state=0)\n",
    "clf3.fit(X_Train, Y_Train)\n",
    "print(clf3.score(X_Test, Y_Test))\n"
   ]
  },
  {
   "cell_type": "code",
   "execution_count": null,
   "metadata": {},
   "outputs": [],
   "source": []
  },
  {
   "cell_type": "code",
   "execution_count": null,
   "metadata": {},
   "outputs": [],
   "source": []
  }
 ],
 "metadata": {
  "kernelspec": {
   "display_name": "Python 3",
   "language": "python",
   "name": "python3"
  },
  "language_info": {
   "codemirror_mode": {
    "name": "ipython",
    "version": 3
   },
   "file_extension": ".py",
   "mimetype": "text/x-python",
   "name": "python",
   "nbconvert_exporter": "python",
   "pygments_lexer": "ipython3",
   "version": "3.7.1"
  }
 },
 "nbformat": 4,
 "nbformat_minor": 2
}
